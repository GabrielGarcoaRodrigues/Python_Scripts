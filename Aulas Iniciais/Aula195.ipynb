{
 "cells": [
  {
   "cell_type": "markdown",
   "id": "5140e800",
   "metadata": {},
   "source": [
    "### Esse é meu título"
   ]
  },
  {
   "cell_type": "markdown",
   "id": "5882eed8",
   "metadata": {},
   "source": [
    "Essa linha cria uma variável a"
   ]
  },
  {
   "cell_type": "code",
   "execution_count": 7,
   "id": "f59cd8ea",
   "metadata": {},
   "outputs": [],
   "source": [
    "a = 2"
   ]
  },
  {
   "cell_type": "markdown",
   "id": "6d8788bf",
   "metadata": {},
   "source": [
    "Essa linha tem o valor da variável `a` em dobro"
   ]
  },
  {
   "cell_type": "code",
   "execution_count": 8,
   "id": "5a9147cd",
   "metadata": {},
   "outputs": [],
   "source": [
    "b = a * 2  # 4"
   ]
  },
  {
   "cell_type": "code",
   "execution_count": 9,
   "id": "b00ae3ea",
   "metadata": {},
   "outputs": [
    {
     "name": "stdout",
     "output_type": "stream",
     "text": [
      "6\n"
     ]
    }
   ],
   "source": [
    "print(a + b)  # 6"
   ]
  }
 ],
 "metadata": {
  "kernelspec": {
   "display_name": "Python 3 (ipykernel)",
   "language": "python",
   "name": "python3"
  },
  "language_info": {
   "codemirror_mode": {
    "name": "ipython",
    "version": 3
   },
   "file_extension": ".py",
   "mimetype": "text/x-python",
   "name": "python",
   "nbconvert_exporter": "python",
   "pygments_lexer": "ipython3",
   "version": "3.9.2"
  }
 },
 "nbformat": 4,
 "nbformat_minor": 5
}
